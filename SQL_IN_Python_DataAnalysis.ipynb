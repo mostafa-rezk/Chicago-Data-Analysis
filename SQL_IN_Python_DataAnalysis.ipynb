{
 "cells": [
  {
   "cell_type": "markdown",
   "id": "0b923d83",
   "metadata": {},
   "source": [
    "# Chicago Crime Analysis\n",
    "#### Schema Tables\n",
    "- Chicago Socioeconomic \n",
    "- Chicago Public Schools\n",
    "- Chicago Crime Data"
   ]
  },
  {
   "cell_type": "markdown",
   "id": "a479ed89",
   "metadata": {},
   "source": [
    "### Socioeconomic Indicators in Chicago\n",
    "- This dataset contains a selection of six socioeconomic indicators of public health significance and a “hardship index,” by Chicago community area, for the years 2008 – 2012. The indicators are the percent of occupied housing units with more than one person per room (i.e., crowded housing); the percent of households living below the federal poverty level; the percent of persons in the labor force over the age of 16 years that are unemployed; the percent of persons over the age of 25 years without a high school diploma; the percent of the population under 18 or over 64 years of age (i.e., dependency); and per capita income. Indicators for Chicago as a whole are provided in the final row of the table"
   ]
  },
  {
   "attachments": {},
   "cell_type": "markdown",
   "id": "ff2dd754",
   "metadata": {},
   "source": [
    "### Chicago Public Schools¶\n",
    "- SAFETY SCORE: Student Perception\n",
    "-Safety score from 5 Essentials survey \n",
    "- FAMILY INVOLVEMENT ICON: Involved Families category from 5 Essentials survey \n",
    "- FAMILY INVOLVEMENT SCORE: Involved Families score from 5 Essentials survey \n",
    "- ENVIRONMENT ICON: Supportive Environment category from 5 Essentials survey \n",
    "- ENVIRONMENT SCORE: Supportive Environment score from 5 Essentials survey \n",
    "- INSTRUCTION ICON: Ambitious Instruction category from 5 Essentials survey \n",
    "- INSTRUCTION SCORE: Ambitious Instruction score from 5 Essentials survey \n",
    "- LEADERS ICON: Effective Leaders category from 5 Essentials survey \n",
    "- LEADERS SCORE: Effective Leaders score from 5 Essentials survey \n",
    "- TEACHERS ICON: Collaborative Teachers category from 5 Essentials survey \n",
    "- TEACHERS SCORE: Collaborative Teachers score from 5 Essentials survey \n",
    "- PARENT ENGAGEMENT ICON: Parent Perception\n",
    "-Engagement category from parent survey \n",
    "- PARENT ENGAGEMENT SCORE: Parent Perception\n",
    "-Engagement score from parent survey \n",
    "- AVERAGE STUDENT ATTENDANCE: Average daily student attendance \n",
    "- RATE OF MISCONDUCTS (PER 100 STUDENTS): # of misconducts per 100 students\n",
    "-AVERAGE TEACHER ATTENDANCE: Average daily teacher attendance \n",
    "- INDIVIDUALIZED EDUCATION PROGRAM COMPLIANCE RATE: % of IEPs and 504 plans completed by due date \n",
    "- PK-2 LITERACY: % of students at benchmark on DIBELS or IDEL \n",
    "- PK-2 MATH: % of students at benchmark on mClass \n",
    "- GR3-5 GRADE LEVEL MATH: % of students at grade level, math, grades 3-5 \n",
    "- GR3-5 GRADE LEVEL READ: % of students at grade level, reading, grades 3-5 \n",
    "- GR3-5 KEEP PACE READ: % of students meeting growth targets, reading, grades 3-5 \n",
    "- GR3-5 KEEP PACE MATH: % of students meeting growth targets, math, grades 3-5 \n",
    "- GR6-8 GRADE LEVEL MATH: % of students at grade level, math, grades 6-8 \n",
    "- GR6-8 GRADE LEVEL READ: % of students at grade level, reading, grades 6-8 \n",
    "- GR6-8 KEEP PACE MATH: % of students meeting growth targets, math, grades 6-8 \n",
    "- GR6-8 KEEP PACE READ: % of students meeting growth targets, reading, grades 6-8 \n",
    "- GR-8 EXPLORE MATH: % of students at college readiness benchmark, math \n",
    "- GR-8 EXPLORE READ: % of students at college readiness benchmark, reading \n",
    "- ISAT EXCEEDING MATH: % of students exceeding on ISAT, math \n",
    "- ISAT EXCEEDING READ: % of students exceeding on ISAT, reading \n",
    "- ISAT VALUE ADD MATH: ISAT value-add value, math \n",
    "- ISAT VALUE ADD READ: ISAT value-add value, reading \n",
    "- ISAT VALUE ADD COLOR MATH: ISAT value-add color, math \n",
    "- ISAT VALUE ADD COLOR READ: ISAT value-add color, reading \n",
    "- STUDENTS TAKING ALGEBRA: % of students taking algebra \n",
    "- STUDENTS PASSING ALGEBRA: % of students passing algebra \n",
    "- 9TH GRADE EXPLORE (2009): Average EXPLORE score, 9th graders who tested in fall 2009 \n",
    "- 9TH GRADE EXPLORE (2010): Average EXPLORE score, 9th graders who tested in fall 2010 \n",
    "- 10TH GRADE PLAN (2009): Average PLAN score, 10th graders who tested in fall 2009 \n",
    "- 10TH GRADE PLAN (2010): Average PLAN score, 10th graders who tested in fall 2010 \n",
    "- NET CHANGE EXPLORE AND PLAN: Difference between Grade 9 Explore (2009) and Grade 10 Plan (2010) \n",
    "- 11TH GRADE AVERAGE ACT (2011): Average ACT score, 11th graders who tested in fall 2011 \n",
    "- NET CHANGE PLAN AND ACT: Difference between Grade 10 Plan (2009) and Grade 11 ACT (2011) \n",
    "- COLLEGE ELIGIBILITY: % of graduates eligible for a selective four-year college \n",
    "- GRADUATION RATE: % of students who have graduated within five years \n",
    "- COLLEGE ENROLLMENT RATE: % of students enrolled in college \n",
    "- COLLEGE ENROLLMENT (NUMBER OF STUDENTS): Total school enrollment \n",
    "- FRESHMAN ON TRACK RATE: Freshmen On-Track rate \n",
    "- RCDTS: Region County District Type Schools Code\n"
   ]
  },
  {
   "cell_type": "markdown",
   "id": "b8f71eff",
   "metadata": {},
   "source": [
    "### Chicago Crime Data\n",
    "- This dataset reflects reported incidents of crime (with the exception of murders where data exists for each victim) that occurred in the City of Chicago from 2001 to present, minus the most recent seven days. Data is extracted from the Chicago Police Department's CLEAR (Citizen Law Enforcement Analysis and Reporting) system. In order to protect the privacy of crime victims, addresses are shown at the block level only and specific locations are not identified. Should you have questions about this dataset, you may contact the Research & Development Division of the Chicago Police Department at PSITAdministration@ChicagoPolice.org. Disclaimer: These crimes may be based upon preliminary information supplied to the Police Department by the reporting parties that have not been verified. The preliminary crime classifications may be changed at a later date based upon additional investigation and there is always the possibility of mechanical or human error. Therefore, the Chicago Police Department does not guarantee (either expressed or implied) the accuracy, completeness, timeliness, or correct sequencing of the information and the information should not be used for comparison purposes over time. The Chicago Police Department will not be responsible for any error or omission, or for the use of, or the results obtained from the use of this information. All data visualizations on maps should be considered approximate and attempts to derive specific addresses are strictly prohibited. The Chicago Police Department is not responsible for the content of any off-site pages that are referenced by or that reference this web page other than an official City of Chicago or Chicago Police Department web page. The user specifically acknowledges that the Chicago Police Department is not responsible for any defamatory, offensive, misleading, or illegal conduct of other users, links, or third parties and that the risk of injury from the foregoing rests entirely with the user. The unauthorized use of the words \"Chicago Police Department,\" \"Chicago Police,\" or any colorable imitation of these words or the unauthorized use of the Chicago Police Department logo is unlawful. This web page does not, in any way, authorize such use. Data are updated daily"
   ]
  },
  {
   "cell_type": "markdown",
   "id": "16879b90",
   "metadata": {},
   "source": [
    "#### Let's Run SQL in Python"
   ]
  },
  {
   "cell_type": "code",
   "execution_count": 23,
   "id": "7045d489",
   "metadata": {},
   "outputs": [],
   "source": [
    "import pandas as pd\n",
    "import sqlalchemy\n",
    "import sqlite3 "
   ]
  },
  {
   "cell_type": "code",
   "execution_count": 3,
   "id": "d1fc872d",
   "metadata": {},
   "outputs": [],
   "source": [
    "#you must first create a Connection object that represents the database\n",
    "cnn = sqlite3.connect('jupyter_sql_chicago.db')"
   ]
  },
  {
   "cell_type": "code",
   "execution_count": 24,
   "id": "f10afe89",
   "metadata": {},
   "outputs": [],
   "source": [
    "#Using Pandas to read our files\n",
    "crime = pd.read_csv('ChicagoCrimeData.csv')\n",
    "census = pd.read_csv('ChicagoCensusData.csv')\n",
    "school = pd.read_csv('ChicagoPublicSchools.csv')"
   ]
  },
  {
   "cell_type": "code",
   "execution_count": 25,
   "id": "1bc3078c",
   "metadata": {},
   "outputs": [
    {
     "ename": "ValueError",
     "evalue": "Table 'ChicagoCrimeData' already exists.",
     "output_type": "error",
     "traceback": [
      "\u001b[1;31m---------------------------------------------------------------------------\u001b[0m",
      "\u001b[1;31mValueError\u001b[0m                                Traceback (most recent call last)",
      "\u001b[1;32m~\\AppData\\Local\\Temp/ipykernel_1184/444277754.py\u001b[0m in \u001b[0;36m<module>\u001b[1;34m\u001b[0m\n\u001b[0;32m      1\u001b[0m \u001b[1;31m#you should store tables in a DataFrame to a SQL database\u001b[0m\u001b[1;33m\u001b[0m\u001b[1;33m\u001b[0m\u001b[1;33m\u001b[0m\u001b[0m\n\u001b[1;32m----> 2\u001b[1;33m \u001b[0mcrime\u001b[0m\u001b[1;33m.\u001b[0m\u001b[0mto_sql\u001b[0m\u001b[1;33m(\u001b[0m\u001b[1;34m'ChicagoCrimeData'\u001b[0m\u001b[1;33m,\u001b[0m \u001b[0mcnn\u001b[0m\u001b[1;33m)\u001b[0m\u001b[1;33m\u001b[0m\u001b[1;33m\u001b[0m\u001b[0m\n\u001b[0m\u001b[0;32m      3\u001b[0m \u001b[0mcensus\u001b[0m\u001b[1;33m.\u001b[0m\u001b[0mto_sql\u001b[0m\u001b[1;33m(\u001b[0m\u001b[1;34m'ChicagoCensusData'\u001b[0m\u001b[1;33m,\u001b[0m \u001b[0mcnn\u001b[0m\u001b[1;33m)\u001b[0m\u001b[1;33m\u001b[0m\u001b[1;33m\u001b[0m\u001b[0m\n\u001b[0;32m      4\u001b[0m \u001b[0mschool\u001b[0m\u001b[1;33m.\u001b[0m\u001b[0mto_sql\u001b[0m\u001b[1;33m(\u001b[0m\u001b[1;34m'ChicagoPublicSchools'\u001b[0m\u001b[1;33m,\u001b[0m \u001b[0mcnn\u001b[0m\u001b[1;33m)\u001b[0m\u001b[1;33m\u001b[0m\u001b[1;33m\u001b[0m\u001b[0m\n",
      "\u001b[1;32mc:\\users\\mostafa\\appdata\\local\\programs\\python\\python39\\lib\\site-packages\\pandas\\core\\generic.py\u001b[0m in \u001b[0;36mto_sql\u001b[1;34m(self, name, con, schema, if_exists, index, index_label, chunksize, dtype, method)\u001b[0m\n\u001b[0;32m   2867\u001b[0m         \u001b[1;32mfrom\u001b[0m \u001b[0mpandas\u001b[0m\u001b[1;33m.\u001b[0m\u001b[0mio\u001b[0m \u001b[1;32mimport\u001b[0m \u001b[0msql\u001b[0m\u001b[1;33m\u001b[0m\u001b[1;33m\u001b[0m\u001b[0m\n\u001b[0;32m   2868\u001b[0m \u001b[1;33m\u001b[0m\u001b[0m\n\u001b[1;32m-> 2869\u001b[1;33m         sql.to_sql(\n\u001b[0m\u001b[0;32m   2870\u001b[0m             \u001b[0mself\u001b[0m\u001b[1;33m,\u001b[0m\u001b[1;33m\u001b[0m\u001b[1;33m\u001b[0m\u001b[0m\n\u001b[0;32m   2871\u001b[0m             \u001b[0mname\u001b[0m\u001b[1;33m,\u001b[0m\u001b[1;33m\u001b[0m\u001b[1;33m\u001b[0m\u001b[0m\n",
      "\u001b[1;32mc:\\users\\mostafa\\appdata\\local\\programs\\python\\python39\\lib\\site-packages\\pandas\\io\\sql.py\u001b[0m in \u001b[0;36mto_sql\u001b[1;34m(frame, name, con, schema, if_exists, index, index_label, chunksize, dtype, method, engine, **engine_kwargs)\u001b[0m\n\u001b[0;32m    715\u001b[0m         )\n\u001b[0;32m    716\u001b[0m \u001b[1;33m\u001b[0m\u001b[0m\n\u001b[1;32m--> 717\u001b[1;33m     pandas_sql.to_sql(\n\u001b[0m\u001b[0;32m    718\u001b[0m         \u001b[0mframe\u001b[0m\u001b[1;33m,\u001b[0m\u001b[1;33m\u001b[0m\u001b[1;33m\u001b[0m\u001b[0m\n\u001b[0;32m    719\u001b[0m         \u001b[0mname\u001b[0m\u001b[1;33m,\u001b[0m\u001b[1;33m\u001b[0m\u001b[1;33m\u001b[0m\u001b[0m\n",
      "\u001b[1;32mc:\\users\\mostafa\\appdata\\local\\programs\\python\\python39\\lib\\site-packages\\pandas\\io\\sql.py\u001b[0m in \u001b[0;36mto_sql\u001b[1;34m(self, frame, name, if_exists, index, index_label, schema, chunksize, dtype, method, **kwargs)\u001b[0m\n\u001b[0;32m   2223\u001b[0m             \u001b[0mdtype\u001b[0m\u001b[1;33m=\u001b[0m\u001b[0mdtype\u001b[0m\u001b[1;33m,\u001b[0m\u001b[1;33m\u001b[0m\u001b[1;33m\u001b[0m\u001b[0m\n\u001b[0;32m   2224\u001b[0m         )\n\u001b[1;32m-> 2225\u001b[1;33m         \u001b[0mtable\u001b[0m\u001b[1;33m.\u001b[0m\u001b[0mcreate\u001b[0m\u001b[1;33m(\u001b[0m\u001b[1;33m)\u001b[0m\u001b[1;33m\u001b[0m\u001b[1;33m\u001b[0m\u001b[0m\n\u001b[0m\u001b[0;32m   2226\u001b[0m         \u001b[0mtable\u001b[0m\u001b[1;33m.\u001b[0m\u001b[0minsert\u001b[0m\u001b[1;33m(\u001b[0m\u001b[0mchunksize\u001b[0m\u001b[1;33m,\u001b[0m \u001b[0mmethod\u001b[0m\u001b[1;33m)\u001b[0m\u001b[1;33m\u001b[0m\u001b[1;33m\u001b[0m\u001b[0m\n\u001b[0;32m   2227\u001b[0m \u001b[1;33m\u001b[0m\u001b[0m\n",
      "\u001b[1;32mc:\\users\\mostafa\\appdata\\local\\programs\\python\\python39\\lib\\site-packages\\pandas\\io\\sql.py\u001b[0m in \u001b[0;36mcreate\u001b[1;34m(self)\u001b[0m\n\u001b[0;32m    856\u001b[0m         \u001b[1;32mif\u001b[0m \u001b[0mself\u001b[0m\u001b[1;33m.\u001b[0m\u001b[0mexists\u001b[0m\u001b[1;33m(\u001b[0m\u001b[1;33m)\u001b[0m\u001b[1;33m:\u001b[0m\u001b[1;33m\u001b[0m\u001b[1;33m\u001b[0m\u001b[0m\n\u001b[0;32m    857\u001b[0m             \u001b[1;32mif\u001b[0m \u001b[0mself\u001b[0m\u001b[1;33m.\u001b[0m\u001b[0mif_exists\u001b[0m \u001b[1;33m==\u001b[0m \u001b[1;34m\"fail\"\u001b[0m\u001b[1;33m:\u001b[0m\u001b[1;33m\u001b[0m\u001b[1;33m\u001b[0m\u001b[0m\n\u001b[1;32m--> 858\u001b[1;33m                 \u001b[1;32mraise\u001b[0m \u001b[0mValueError\u001b[0m\u001b[1;33m(\u001b[0m\u001b[1;34mf\"Table '{self.name}' already exists.\"\u001b[0m\u001b[1;33m)\u001b[0m\u001b[1;33m\u001b[0m\u001b[1;33m\u001b[0m\u001b[0m\n\u001b[0m\u001b[0;32m    859\u001b[0m             \u001b[1;32melif\u001b[0m \u001b[0mself\u001b[0m\u001b[1;33m.\u001b[0m\u001b[0mif_exists\u001b[0m \u001b[1;33m==\u001b[0m \u001b[1;34m\"replace\"\u001b[0m\u001b[1;33m:\u001b[0m\u001b[1;33m\u001b[0m\u001b[1;33m\u001b[0m\u001b[0m\n\u001b[0;32m    860\u001b[0m                 \u001b[0mself\u001b[0m\u001b[1;33m.\u001b[0m\u001b[0mpd_sql\u001b[0m\u001b[1;33m.\u001b[0m\u001b[0mdrop_table\u001b[0m\u001b[1;33m(\u001b[0m\u001b[0mself\u001b[0m\u001b[1;33m.\u001b[0m\u001b[0mname\u001b[0m\u001b[1;33m,\u001b[0m \u001b[0mself\u001b[0m\u001b[1;33m.\u001b[0m\u001b[0mschema\u001b[0m\u001b[1;33m)\u001b[0m\u001b[1;33m\u001b[0m\u001b[1;33m\u001b[0m\u001b[0m\n",
      "\u001b[1;31mValueError\u001b[0m: Table 'ChicagoCrimeData' already exists."
     ]
    }
   ],
   "source": [
    "#you should store tables in a DataFrame to a SQL database\n",
    "crime.to_sql('ChicagoCrimeData', cnn)\n",
    "census.to_sql('ChicagoCensusData', cnn)\n",
    "school.to_sql('ChicagoPublicSchools', cnn)\n"
   ]
  },
  {
   "cell_type": "code",
   "execution_count": 26,
   "id": "1c03c112",
   "metadata": {},
   "outputs": [
    {
     "name": "stdout",
     "output_type": "stream",
     "text": [
      "The sql extension is already loaded. To reload it, use:\n",
      "  %reload_ext sql\n"
     ]
    }
   ],
   "source": [
    "#you should load ipython-sql library using the % \n",
    "%load_ext sql"
   ]
  },
  {
   "cell_type": "code",
   "execution_count": 27,
   "id": "0eca8194",
   "metadata": {},
   "outputs": [],
   "source": [
    "#pass connection string in SQLAlchemy to connect to the database\n",
    "%sql sqlite:///jupyter_sql_chicago.db"
   ]
  },
  {
   "cell_type": "markdown",
   "id": "c91b6695",
   "metadata": {},
   "source": [
    "### We are going to slove 10 problems ; "
   ]
  },
  {
   "cell_type": "markdown",
   "id": "f93b18ed",
   "metadata": {},
   "source": [
    "- Problem 1: Find the total number of crimes recorded in the CRIME table."
   ]
  },
  {
   "cell_type": "code",
   "execution_count": 15,
   "id": "95820e2a",
   "metadata": {},
   "outputs": [
    {
     "name": "stdout",
     "output_type": "stream",
     "text": [
      " * sqlite:///jupyter_sql_chicago.db\n",
      "Done.\n"
     ]
    },
    {
     "data": {
      "text/html": [
       "<table>\n",
       "    <tr>\n",
       "        <th>total_crimes</th>\n",
       "    </tr>\n",
       "    <tr>\n",
       "        <td>533</td>\n",
       "    </tr>\n",
       "</table>"
      ],
      "text/plain": [
       "[(533,)]"
      ]
     },
     "execution_count": 15,
     "metadata": {},
     "output_type": "execute_result"
    }
   ],
   "source": [
    "# Rows in Crime table\n",
    "%sql select count(*) as total_crimes from ChicagoCrimeData"
   ]
  },
  {
   "cell_type": "markdown",
   "id": "6733fba5",
   "metadata": {},
   "source": [
    "- Problem 2: List community areas with per capita income less than 11000."
   ]
  },
  {
   "cell_type": "code",
   "execution_count": 19,
   "id": "c1f60a98",
   "metadata": {},
   "outputs": [
    {
     "name": "stdout",
     "output_type": "stream",
     "text": [
      " * sqlite:///jupyter_sql_chicago.db\n",
      "Done.\n"
     ]
    },
    {
     "data": {
      "text/html": [
       "<table>\n",
       "    <tr>\n",
       "        <th>index</th>\n",
       "        <th>COMMUNITY_AREA_NUMBER</th>\n",
       "        <th>COMMUNITY_AREA_NAME</th>\n",
       "        <th>PERCENT_OF_HOUSING_CROWDED</th>\n",
       "        <th>PERCENT_HOUSEHOLDS_BELOW_POVERTY</th>\n",
       "        <th>PERCENT_AGED_16__UNEMPLOYED</th>\n",
       "        <th>PERCENT_AGED_25__WITHOUT_HIGH_SCHOOL_DIPLOMA</th>\n",
       "        <th>PERCENT_AGED_UNDER_18_OR_OVER_64</th>\n",
       "        <th>PER_CAPITA_INCOME</th>\n",
       "        <th>HARDSHIP_INDEX</th>\n",
       "    </tr>\n",
       "    <tr>\n",
       "        <td>25</td>\n",
       "        <td>26.0</td>\n",
       "        <td>West Garfield Park</td>\n",
       "        <td>9.4</td>\n",
       "        <td>41.7</td>\n",
       "        <td>25.8</td>\n",
       "        <td>24.5</td>\n",
       "        <td>43.6</td>\n",
       "        <td>10934</td>\n",
       "        <td>92.0</td>\n",
       "    </tr>\n",
       "    <tr>\n",
       "        <td>29</td>\n",
       "        <td>30.0</td>\n",
       "        <td>South Lawndale</td>\n",
       "        <td>15.2</td>\n",
       "        <td>30.7</td>\n",
       "        <td>15.8</td>\n",
       "        <td>54.8</td>\n",
       "        <td>33.8</td>\n",
       "        <td>10402</td>\n",
       "        <td>96.0</td>\n",
       "    </tr>\n",
       "    <tr>\n",
       "        <td>36</td>\n",
       "        <td>37.0</td>\n",
       "        <td>Fuller Park</td>\n",
       "        <td>3.2</td>\n",
       "        <td>51.2</td>\n",
       "        <td>33.9</td>\n",
       "        <td>26.6</td>\n",
       "        <td>44.9</td>\n",
       "        <td>10432</td>\n",
       "        <td>97.0</td>\n",
       "    </tr>\n",
       "    <tr>\n",
       "        <td>53</td>\n",
       "        <td>54.0</td>\n",
       "        <td>Riverdale</td>\n",
       "        <td>5.8</td>\n",
       "        <td>56.5</td>\n",
       "        <td>34.6</td>\n",
       "        <td>27.5</td>\n",
       "        <td>51.5</td>\n",
       "        <td>8201</td>\n",
       "        <td>98.0</td>\n",
       "    </tr>\n",
       "</table>"
      ],
      "text/plain": [
       "[(25, 26.0, 'West Garfield Park', 9.4, 41.7, 25.8, 24.5, 43.6, 10934, 92.0),\n",
       " (29, 30.0, 'South Lawndale', 15.2, 30.7, 15.8, 54.8, 33.8, 10402, 96.0),\n",
       " (36, 37.0, 'Fuller Park', 3.2, 51.2, 33.9, 26.6, 44.9, 10432, 97.0),\n",
       " (53, 54.0, 'Riverdale', 5.8, 56.5, 34.6, 27.5, 51.5, 8201, 98.0)]"
      ]
     },
     "execution_count": 19,
     "metadata": {},
     "output_type": "execute_result"
    }
   ],
   "source": [
    "#USE WHERE Condition to filter the resut\n",
    "%sql SELECT * FROM ChicagoCensusData WHERE PER_CAPITA_INCOME < 11000 ;"
   ]
  },
  {
   "cell_type": "markdown",
   "id": "d1ad1ab3",
   "metadata": {},
   "source": [
    "- Problem 3: List all case numbers for crimes with PERCENT_AGED_16__UNEMPLOYED"
   ]
  },
  {
   "cell_type": "code",
   "execution_count": 72,
   "id": "72ce1c6a",
   "metadata": {},
   "outputs": [
    {
     "name": "stdout",
     "output_type": "stream",
     "text": [
      " * sqlite:///jupyter_sql_chicago.db\n",
      "Done.\n"
     ]
    },
    {
     "data": {
      "text/html": [
       "<table>\n",
       "    <tr>\n",
       "        <th>CASE_NUMBER</th>\n",
       "        <th>PERCENT_AGED_16__UNEMPLOYED</th>\n",
       "    </tr>\n",
       "    <tr>\n",
       "        <td>HK587712</td>\n",
       "        <td>8.7</td>\n",
       "    </tr>\n",
       "    <tr>\n",
       "        <td>HK587712</td>\n",
       "        <td>8.8</td>\n",
       "    </tr>\n",
       "    <tr>\n",
       "        <td>HK587712</td>\n",
       "        <td>8.9</td>\n",
       "    </tr>\n",
       "    <tr>\n",
       "        <td>HK587712</td>\n",
       "        <td>8.2</td>\n",
       "    </tr>\n",
       "    <tr>\n",
       "        <td>HK587712</td>\n",
       "        <td>5.2</td>\n",
       "    </tr>\n",
       "    <tr>\n",
       "        <td>HK587712</td>\n",
       "        <td>4.7</td>\n",
       "    </tr>\n",
       "    <tr>\n",
       "        <td>HK587712</td>\n",
       "        <td>5.1</td>\n",
       "    </tr>\n",
       "    <tr>\n",
       "        <td>HK587712</td>\n",
       "        <td>7.0</td>\n",
       "    </tr>\n",
       "    <tr>\n",
       "        <td>HK587712</td>\n",
       "        <td>6.5</td>\n",
       "    </tr>\n",
       "    <tr>\n",
       "        <td>HK587712</td>\n",
       "        <td>9.0</td>\n",
       "    </tr>\n",
       "</table>"
      ],
      "text/plain": [
       "[('HK587712', 8.7),\n",
       " ('HK587712', 8.8),\n",
       " ('HK587712', 8.9),\n",
       " ('HK587712', 8.2),\n",
       " ('HK587712', 5.2),\n",
       " ('HK587712', 4.7),\n",
       " ('HK587712', 5.1),\n",
       " ('HK587712', 7.0),\n",
       " ('HK587712', 6.5),\n",
       " ('HK587712', 9.0)]"
      ]
     },
     "execution_count": 72,
     "metadata": {},
     "output_type": "execute_result"
    }
   ],
   "source": [
    "%%sql\n",
    "SELECT CASE_NUMBER, PERCENT_AGED_16__UNEMPLOYED\n",
    "FROM ChicagoCrimeData, ChicagoCensusData\n"
   ]
  },
  {
   "cell_type": "markdown",
   "id": "2215f453",
   "metadata": {},
   "source": [
    "- Problem 4: List all kidnapping crimes "
   ]
  },
  {
   "cell_type": "code",
   "execution_count": 21,
   "id": "3f706387",
   "metadata": {},
   "outputs": [
    {
     "name": "stdout",
     "output_type": "stream",
     "text": [
      " * sqlite:///jupyter_sql_chicago.db\n",
      "Done.\n"
     ]
    },
    {
     "data": {
      "text/html": [
       "<table>\n",
       "    <tr>\n",
       "        <th>CASE_NUMBER</th>\n",
       "        <th>PRIMARY_TYPE</th>\n",
       "    </tr>\n",
       "    <tr>\n",
       "        <td>HN144152</td>\n",
       "        <td>KIDNAPPING</td>\n",
       "    </tr>\n",
       "    <tr>\n",
       "        <td>HN144152</td>\n",
       "        <td>KIDNAPPING</td>\n",
       "    </tr>\n",
       "    <tr>\n",
       "        <td>HN144152</td>\n",
       "        <td>KIDNAPPING</td>\n",
       "    </tr>\n",
       "    <tr>\n",
       "        <td>HN144152</td>\n",
       "        <td>KIDNAPPING</td>\n",
       "    </tr>\n",
       "    <tr>\n",
       "        <td>HN144152</td>\n",
       "        <td>KIDNAPPING</td>\n",
       "    </tr>\n",
       "    <tr>\n",
       "        <td>HN144152</td>\n",
       "        <td>KIDNAPPING</td>\n",
       "    </tr>\n",
       "    <tr>\n",
       "        <td>HN144152</td>\n",
       "        <td>KIDNAPPING</td>\n",
       "    </tr>\n",
       "    <tr>\n",
       "        <td>HN144152</td>\n",
       "        <td>KIDNAPPING</td>\n",
       "    </tr>\n",
       "    <tr>\n",
       "        <td>HN144152</td>\n",
       "        <td>KIDNAPPING</td>\n",
       "    </tr>\n",
       "    <tr>\n",
       "        <td>HN144152</td>\n",
       "        <td>KIDNAPPING</td>\n",
       "    </tr>\n",
       "</table>"
      ],
      "text/plain": [
       "[('HN144152', 'KIDNAPPING'),\n",
       " ('HN144152', 'KIDNAPPING'),\n",
       " ('HN144152', 'KIDNAPPING'),\n",
       " ('HN144152', 'KIDNAPPING'),\n",
       " ('HN144152', 'KIDNAPPING'),\n",
       " ('HN144152', 'KIDNAPPING'),\n",
       " ('HN144152', 'KIDNAPPING'),\n",
       " ('HN144152', 'KIDNAPPING'),\n",
       " ('HN144152', 'KIDNAPPING'),\n",
       " ('HN144152', 'KIDNAPPING')]"
      ]
     },
     "execution_count": 21,
     "metadata": {},
     "output_type": "execute_result"
    }
   ],
   "source": [
    "%%sql\n",
    "SELECT CASE_NUMBER, PRIMARY_TYPE \n",
    "FROM ChicagoCrimeData, ChicagoCensusData\n",
    "WHERE PRIMARY_TYPE = 'KIDNAPPING'\n"
   ]
  },
  {
   "cell_type": "markdown",
   "id": "2d8a6ea4",
   "metadata": {},
   "source": [
    "- Problem 5: What kind of crimes were recorded at schools"
   ]
  },
  {
   "cell_type": "code",
   "execution_count": 22,
   "id": "3f04179d",
   "metadata": {},
   "outputs": [
    {
     "name": "stdout",
     "output_type": "stream",
     "text": [
      " * sqlite:///jupyter_sql_chicago.db\n",
      "Done.\n"
     ]
    },
    {
     "data": {
      "text/html": [
       "<table>\n",
       "    <tr>\n",
       "        <th>PRIMARY_TYPE</th>\n",
       "        <th>NAME_OF_SCHOOL</th>\n",
       "    </tr>\n",
       "    <tr>\n",
       "        <td>THEFT</td>\n",
       "        <td>Abraham Lincoln Elementary School</td>\n",
       "    </tr>\n",
       "    <tr>\n",
       "        <td>THEFT</td>\n",
       "        <td>Adam Clayton Powell Paideia Community Academy Elementary School</td>\n",
       "    </tr>\n",
       "    <tr>\n",
       "        <td>THEFT</td>\n",
       "        <td>Adlai E Stevenson Elementary School</td>\n",
       "    </tr>\n",
       "    <tr>\n",
       "        <td>THEFT</td>\n",
       "        <td>Agustin Lara Elementary Academy</td>\n",
       "    </tr>\n",
       "    <tr>\n",
       "        <td>THEFT</td>\n",
       "        <td>Air Force Academy High School</td>\n",
       "    </tr>\n",
       "    <tr>\n",
       "        <td>THEFT</td>\n",
       "        <td>Albany Park Multicultural Academy</td>\n",
       "    </tr>\n",
       "    <tr>\n",
       "        <td>THEFT</td>\n",
       "        <td>Albert G Lane Technical High School</td>\n",
       "    </tr>\n",
       "    <tr>\n",
       "        <td>THEFT</td>\n",
       "        <td>Albert R Sabin Elementary Magnet School</td>\n",
       "    </tr>\n",
       "    <tr>\n",
       "        <td>THEFT</td>\n",
       "        <td>Alcott High School for the Humanities</td>\n",
       "    </tr>\n",
       "    <tr>\n",
       "        <td>THEFT</td>\n",
       "        <td>Alessandro Volta Elementary School</td>\n",
       "    </tr>\n",
       "</table>"
      ],
      "text/plain": [
       "[('THEFT', 'Abraham Lincoln Elementary School'),\n",
       " ('THEFT', 'Adam Clayton Powell Paideia Community Academy Elementary School'),\n",
       " ('THEFT', 'Adlai E Stevenson Elementary School'),\n",
       " ('THEFT', 'Agustin Lara Elementary Academy'),\n",
       " ('THEFT', 'Air Force Academy High School'),\n",
       " ('THEFT', 'Albany Park Multicultural Academy'),\n",
       " ('THEFT', 'Albert G Lane Technical High School'),\n",
       " ('THEFT', 'Albert R Sabin Elementary Magnet School'),\n",
       " ('THEFT', 'Alcott High School for the Humanities'),\n",
       " ('THEFT', 'Alessandro Volta Elementary School')]"
      ]
     },
     "execution_count": 22,
     "metadata": {},
     "output_type": "execute_result"
    }
   ],
   "source": [
    "%%sql\n",
    "SELECT primary_type , NAME_OF_SCHOOL  \n",
    "FROM ChicagoCrimeData , ChicagoPublicSchools \n"
   ]
  },
  {
   "cell_type": "markdown",
   "id": "6fd51010",
   "metadata": {},
   "source": [
    "- Problem 6: List the average safety score for all schools."
   ]
  },
  {
   "cell_type": "code",
   "execution_count": 23,
   "id": "d9d6f50d",
   "metadata": {},
   "outputs": [
    {
     "name": "stdout",
     "output_type": "stream",
     "text": [
      " * sqlite:///jupyter_sql_chicago.db\n",
      "Done.\n"
     ]
    },
    {
     "data": {
      "text/html": [
       "<table>\n",
       "    <tr>\n",
       "        <th>average_school_safety_score</th>\n",
       "    </tr>\n",
       "    <tr>\n",
       "        <td>49.50487329434698</td>\n",
       "    </tr>\n",
       "</table>"
      ],
      "text/plain": [
       "[(49.50487329434698,)]"
      ]
     },
     "execution_count": 23,
     "metadata": {},
     "output_type": "execute_result"
    }
   ],
   "source": [
    "%%sql \n",
    "SELECT AVG(SAFETY_SCORE) as \"average_school_safety_score\"  \n",
    "FROM ChicagoPublicSchools"
   ]
  },
  {
   "cell_type": "markdown",
   "id": "b2d285a8",
   "metadata": {},
   "source": [
    "- Problem 7: List 5 community areas with highest % of households below poverty line."
   ]
  },
  {
   "cell_type": "code",
   "execution_count": 24,
   "id": "561bf1eb",
   "metadata": {},
   "outputs": [
    {
     "name": "stdout",
     "output_type": "stream",
     "text": [
      " * sqlite:///jupyter_sql_chicago.db\n",
      "Done.\n"
     ]
    },
    {
     "data": {
      "text/html": [
       "<table>\n",
       "    <tr>\n",
       "        <th>COMMUNITY_AREA_NUMBER</th>\n",
       "        <th>PERCENT_HOUSEHOLDS_BELOW_POVERTY</th>\n",
       "    </tr>\n",
       "    <tr>\n",
       "        <td>54.0</td>\n",
       "        <td>56.5</td>\n",
       "    </tr>\n",
       "    <tr>\n",
       "        <td>37.0</td>\n",
       "        <td>51.2</td>\n",
       "    </tr>\n",
       "    <tr>\n",
       "        <td>68.0</td>\n",
       "        <td>46.6</td>\n",
       "    </tr>\n",
       "    <tr>\n",
       "        <td>29.0</td>\n",
       "        <td>43.1</td>\n",
       "    </tr>\n",
       "    <tr>\n",
       "        <td>27.0</td>\n",
       "        <td>42.4</td>\n",
       "    </tr>\n",
       "</table>"
      ],
      "text/plain": [
       "[(54.0, 56.5), (37.0, 51.2), (68.0, 46.6), (29.0, 43.1), (27.0, 42.4)]"
      ]
     },
     "execution_count": 24,
     "metadata": {},
     "output_type": "execute_result"
    }
   ],
   "source": [
    "%%sql \n",
    "SELECT COMMUNITY_AREA_NUMBER , PERCENT_HOUSEHOLDS_BELOW_POVERTY\n",
    "FROM ChicagoCensusData\n",
    "ORDER BY PERCENT_HOUSEHOLDS_BELOW_POVERTY DESC\n",
    "LIMIT 5\n",
    " "
   ]
  },
  {
   "cell_type": "markdown",
   "id": "39c7854f",
   "metadata": {},
   "source": [
    "Problem 8: Which community area(number) is most dangerous ?"
   ]
  },
  {
   "cell_type": "code",
   "execution_count": 45,
   "id": "02f5992f",
   "metadata": {},
   "outputs": [
    {
     "name": "stdout",
     "output_type": "stream",
     "text": [
      " * sqlite:///jupyter_sql_chicago.db\n",
      "Done.\n"
     ]
    },
    {
     "data": {
      "text/html": [
       "<table>\n",
       "    <tr>\n",
       "        <th>COMMUNITY_AREA_NUMBER</th>\n",
       "        <th>Not_Safe</th>\n",
       "    </tr>\n",
       "    <tr>\n",
       "        <td>40</td>\n",
       "        <td>1.0</td>\n",
       "    </tr>\n",
       "</table>"
      ],
      "text/plain": [
       "[(40, 1.0)]"
      ]
     },
     "execution_count": 45,
     "metadata": {},
     "output_type": "execute_result"
    }
   ],
   "source": [
    "%%sql \n",
    "SELECT COMMUNITY_AREA_NUMBER , MIN(SAFETY_SCORE) as Not_Safe\n",
    "FROM ChicagoPublicSchools"
   ]
  },
  {
   "cell_type": "markdown",
   "id": "ea168965",
   "metadata": {},
   "source": [
    "- Problem 9: Use a sub-query to find the name of the community area with highest hardship index."
   ]
  },
  {
   "cell_type": "code",
   "execution_count": 41,
   "id": "378e427d",
   "metadata": {},
   "outputs": [
    {
     "name": "stdout",
     "output_type": "stream",
     "text": [
      " * sqlite:///jupyter_sql_chicago.db\n",
      "Done.\n"
     ]
    },
    {
     "data": {
      "text/html": [
       "<table>\n",
       "    <tr>\n",
       "        <th>COMMUNITY_AREA_NAME</th>\n",
       "    </tr>\n",
       "    <tr>\n",
       "        <td>Riverdale</td>\n",
       "    </tr>\n",
       "</table>"
      ],
      "text/plain": [
       "[('Riverdale',)]"
      ]
     },
     "execution_count": 41,
     "metadata": {},
     "output_type": "execute_result"
    }
   ],
   "source": [
    "%%sql \n",
    "SELECT COMMUNITY_AREA_NAME FROM ChicagoCensusData\n",
    "WHERE HARDSHIP_INDEX IN\n",
    "(SELECT MAX(HARDSHIP_INDEX) FROM ChicagoCensusData)"
   ]
  },
  {
   "cell_type": "markdown",
   "id": "9f35bdce",
   "metadata": {},
   "source": [
    "Problem 10: In the CENUS_DATA table list all Community Areas whose names start with the letter ‘B’."
   ]
  },
  {
   "cell_type": "code",
   "execution_count": 7,
   "id": "41576565",
   "metadata": {},
   "outputs": [
    {
     "name": "stdout",
     "output_type": "stream",
     "text": [
      " * sqlite:///jupyter_sql_chicago.db\n",
      "Done.\n"
     ]
    },
    {
     "data": {
      "text/html": [
       "<table>\n",
       "    <tr>\n",
       "        <th>COMMUNITY_AREA_NAME</th>\n",
       "    </tr>\n",
       "    <tr>\n",
       "        <td>Belmont Cragin</td>\n",
       "    </tr>\n",
       "    <tr>\n",
       "        <td>Burnside</td>\n",
       "    </tr>\n",
       "    <tr>\n",
       "        <td>Brighton Park</td>\n",
       "    </tr>\n",
       "    <tr>\n",
       "        <td>Bridgeport</td>\n",
       "    </tr>\n",
       "    <tr>\n",
       "        <td>Beverly</td>\n",
       "    </tr>\n",
       "</table>"
      ],
      "text/plain": [
       "[('Belmont Cragin',),\n",
       " ('Burnside',),\n",
       " ('Brighton Park',),\n",
       " ('Bridgeport',),\n",
       " ('Beverly',)]"
      ]
     },
     "execution_count": 7,
     "metadata": {},
     "output_type": "execute_result"
    }
   ],
   "source": [
    "%sql SELECT COMMUNITY_AREA_NAME FROM ChicagoCensusData WHERE COMMUNITY_AREA_NAME LIKE 'B%'"
   ]
  },
  {
   "cell_type": "code",
   "execution_count": 38,
   "id": "c998b788",
   "metadata": {},
   "outputs": [
    {
     "name": "stdout",
     "output_type": "stream",
     "text": [
      " * sqlite:///jupyter_sql_chicago.db\n",
      "Done.\n"
     ]
    },
    {
     "data": {
      "text/html": [
       "<table>\n",
       "    <tr>\n",
       "        <th>COMMUNITY_AREA_NUMBER</th>\n",
       "    </tr>\n",
       "    <tr>\n",
       "        <td>1.0</td>\n",
       "    </tr>\n",
       "    <tr>\n",
       "        <td>2.0</td>\n",
       "    </tr>\n",
       "    <tr>\n",
       "        <td>3.0</td>\n",
       "    </tr>\n",
       "    <tr>\n",
       "        <td>4.0</td>\n",
       "    </tr>\n",
       "    <tr>\n",
       "        <td>5.0</td>\n",
       "    </tr>\n",
       "    <tr>\n",
       "        <td>6.0</td>\n",
       "    </tr>\n",
       "    <tr>\n",
       "        <td>7.0</td>\n",
       "    </tr>\n",
       "    <tr>\n",
       "        <td>8.0</td>\n",
       "    </tr>\n",
       "    <tr>\n",
       "        <td>9.0</td>\n",
       "    </tr>\n",
       "    <tr>\n",
       "        <td>10.0</td>\n",
       "    </tr>\n",
       "    <tr>\n",
       "        <td>11.0</td>\n",
       "    </tr>\n",
       "    <tr>\n",
       "        <td>12.0</td>\n",
       "    </tr>\n",
       "    <tr>\n",
       "        <td>13.0</td>\n",
       "    </tr>\n",
       "    <tr>\n",
       "        <td>14.0</td>\n",
       "    </tr>\n",
       "    <tr>\n",
       "        <td>15.0</td>\n",
       "    </tr>\n",
       "    <tr>\n",
       "        <td>16.0</td>\n",
       "    </tr>\n",
       "    <tr>\n",
       "        <td>17.0</td>\n",
       "    </tr>\n",
       "    <tr>\n",
       "        <td>18.0</td>\n",
       "    </tr>\n",
       "    <tr>\n",
       "        <td>19.0</td>\n",
       "    </tr>\n",
       "    <tr>\n",
       "        <td>20.0</td>\n",
       "    </tr>\n",
       "    <tr>\n",
       "        <td>21.0</td>\n",
       "    </tr>\n",
       "    <tr>\n",
       "        <td>22.0</td>\n",
       "    </tr>\n",
       "    <tr>\n",
       "        <td>23.0</td>\n",
       "    </tr>\n",
       "    <tr>\n",
       "        <td>24.0</td>\n",
       "    </tr>\n",
       "    <tr>\n",
       "        <td>25.0</td>\n",
       "    </tr>\n",
       "    <tr>\n",
       "        <td>26.0</td>\n",
       "    </tr>\n",
       "    <tr>\n",
       "        <td>27.0</td>\n",
       "    </tr>\n",
       "    <tr>\n",
       "        <td>28.0</td>\n",
       "    </tr>\n",
       "    <tr>\n",
       "        <td>29.0</td>\n",
       "    </tr>\n",
       "    <tr>\n",
       "        <td>30.0</td>\n",
       "    </tr>\n",
       "    <tr>\n",
       "        <td>31.0</td>\n",
       "    </tr>\n",
       "    <tr>\n",
       "        <td>32.0</td>\n",
       "    </tr>\n",
       "    <tr>\n",
       "        <td>33.0</td>\n",
       "    </tr>\n",
       "    <tr>\n",
       "        <td>34.0</td>\n",
       "    </tr>\n",
       "    <tr>\n",
       "        <td>35.0</td>\n",
       "    </tr>\n",
       "    <tr>\n",
       "        <td>36.0</td>\n",
       "    </tr>\n",
       "    <tr>\n",
       "        <td>37.0</td>\n",
       "    </tr>\n",
       "    <tr>\n",
       "        <td>38.0</td>\n",
       "    </tr>\n",
       "    <tr>\n",
       "        <td>39.0</td>\n",
       "    </tr>\n",
       "    <tr>\n",
       "        <td>40.0</td>\n",
       "    </tr>\n",
       "    <tr>\n",
       "        <td>41.0</td>\n",
       "    </tr>\n",
       "    <tr>\n",
       "        <td>42.0</td>\n",
       "    </tr>\n",
       "    <tr>\n",
       "        <td>43.0</td>\n",
       "    </tr>\n",
       "    <tr>\n",
       "        <td>44.0</td>\n",
       "    </tr>\n",
       "    <tr>\n",
       "        <td>45.0</td>\n",
       "    </tr>\n",
       "    <tr>\n",
       "        <td>46.0</td>\n",
       "    </tr>\n",
       "    <tr>\n",
       "        <td>47.0</td>\n",
       "    </tr>\n",
       "    <tr>\n",
       "        <td>48.0</td>\n",
       "    </tr>\n",
       "    <tr>\n",
       "        <td>49.0</td>\n",
       "    </tr>\n",
       "    <tr>\n",
       "        <td>50.0</td>\n",
       "    </tr>\n",
       "    <tr>\n",
       "        <td>51.0</td>\n",
       "    </tr>\n",
       "    <tr>\n",
       "        <td>52.0</td>\n",
       "    </tr>\n",
       "    <tr>\n",
       "        <td>53.0</td>\n",
       "    </tr>\n",
       "    <tr>\n",
       "        <td>54.0</td>\n",
       "    </tr>\n",
       "    <tr>\n",
       "        <td>55.0</td>\n",
       "    </tr>\n",
       "    <tr>\n",
       "        <td>56.0</td>\n",
       "    </tr>\n",
       "    <tr>\n",
       "        <td>57.0</td>\n",
       "    </tr>\n",
       "    <tr>\n",
       "        <td>58.0</td>\n",
       "    </tr>\n",
       "    <tr>\n",
       "        <td>59.0</td>\n",
       "    </tr>\n",
       "    <tr>\n",
       "        <td>60.0</td>\n",
       "    </tr>\n",
       "    <tr>\n",
       "        <td>61.0</td>\n",
       "    </tr>\n",
       "    <tr>\n",
       "        <td>62.0</td>\n",
       "    </tr>\n",
       "    <tr>\n",
       "        <td>63.0</td>\n",
       "    </tr>\n",
       "    <tr>\n",
       "        <td>64.0</td>\n",
       "    </tr>\n",
       "    <tr>\n",
       "        <td>65.0</td>\n",
       "    </tr>\n",
       "    <tr>\n",
       "        <td>66.0</td>\n",
       "    </tr>\n",
       "    <tr>\n",
       "        <td>67.0</td>\n",
       "    </tr>\n",
       "    <tr>\n",
       "        <td>68.0</td>\n",
       "    </tr>\n",
       "    <tr>\n",
       "        <td>69.0</td>\n",
       "    </tr>\n",
       "    <tr>\n",
       "        <td>70.0</td>\n",
       "    </tr>\n",
       "    <tr>\n",
       "        <td>71.0</td>\n",
       "    </tr>\n",
       "    <tr>\n",
       "        <td>72.0</td>\n",
       "    </tr>\n",
       "    <tr>\n",
       "        <td>73.0</td>\n",
       "    </tr>\n",
       "    <tr>\n",
       "        <td>74.0</td>\n",
       "    </tr>\n",
       "    <tr>\n",
       "        <td>75.0</td>\n",
       "    </tr>\n",
       "    <tr>\n",
       "        <td>76.0</td>\n",
       "    </tr>\n",
       "    <tr>\n",
       "        <td>77.0</td>\n",
       "    </tr>\n",
       "    <tr>\n",
       "        <td>None</td>\n",
       "    </tr>\n",
       "</table>"
      ],
      "text/plain": [
       "[(1.0,),\n",
       " (2.0,),\n",
       " (3.0,),\n",
       " (4.0,),\n",
       " (5.0,),\n",
       " (6.0,),\n",
       " (7.0,),\n",
       " (8.0,),\n",
       " (9.0,),\n",
       " (10.0,),\n",
       " (11.0,),\n",
       " (12.0,),\n",
       " (13.0,),\n",
       " (14.0,),\n",
       " (15.0,),\n",
       " (16.0,),\n",
       " (17.0,),\n",
       " (18.0,),\n",
       " (19.0,),\n",
       " (20.0,),\n",
       " (21.0,),\n",
       " (22.0,),\n",
       " (23.0,),\n",
       " (24.0,),\n",
       " (25.0,),\n",
       " (26.0,),\n",
       " (27.0,),\n",
       " (28.0,),\n",
       " (29.0,),\n",
       " (30.0,),\n",
       " (31.0,),\n",
       " (32.0,),\n",
       " (33.0,),\n",
       " (34.0,),\n",
       " (35.0,),\n",
       " (36.0,),\n",
       " (37.0,),\n",
       " (38.0,),\n",
       " (39.0,),\n",
       " (40.0,),\n",
       " (41.0,),\n",
       " (42.0,),\n",
       " (43.0,),\n",
       " (44.0,),\n",
       " (45.0,),\n",
       " (46.0,),\n",
       " (47.0,),\n",
       " (48.0,),\n",
       " (49.0,),\n",
       " (50.0,),\n",
       " (51.0,),\n",
       " (52.0,),\n",
       " (53.0,),\n",
       " (54.0,),\n",
       " (55.0,),\n",
       " (56.0,),\n",
       " (57.0,),\n",
       " (58.0,),\n",
       " (59.0,),\n",
       " (60.0,),\n",
       " (61.0,),\n",
       " (62.0,),\n",
       " (63.0,),\n",
       " (64.0,),\n",
       " (65.0,),\n",
       " (66.0,),\n",
       " (67.0,),\n",
       " (68.0,),\n",
       " (69.0,),\n",
       " (70.0,),\n",
       " (71.0,),\n",
       " (72.0,),\n",
       " (73.0,),\n",
       " (74.0,),\n",
       " (75.0,),\n",
       " (76.0,),\n",
       " (77.0,),\n",
       " (None,)]"
      ]
     },
     "execution_count": 38,
     "metadata": {},
     "output_type": "execute_result"
    }
   ],
   "source": [
    "%sql SELECT COMMUNITY_AREA_NUMBER FROM ChicagoCensusData "
   ]
  },
  {
   "cell_type": "code",
   "execution_count": null,
   "id": "33ccbac4",
   "metadata": {},
   "outputs": [],
   "source": []
  }
 ],
 "metadata": {
  "kernelspec": {
   "display_name": "Python 3 (ipykernel)",
   "language": "python",
   "name": "python3"
  },
  "language_info": {
   "codemirror_mode": {
    "name": "ipython",
    "version": 3
   },
   "file_extension": ".py",
   "mimetype": "text/x-python",
   "name": "python",
   "nbconvert_exporter": "python",
   "pygments_lexer": "ipython3",
   "version": "3.9.6"
  }
 },
 "nbformat": 4,
 "nbformat_minor": 5
}
